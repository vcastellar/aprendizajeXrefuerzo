{
  "nbformat": 4,
  "nbformat_minor": 0,
  "metadata": {
    "colab": {
      "provenance": [],
      "authorship_tag": "ABX9TyPxC86A1PHb3rH7vkzV9+j5",
      "include_colab_link": true
    },
    "kernelspec": {
      "name": "python3",
      "display_name": "Python 3"
    },
    "language_info": {
      "name": "python"
    }
  },
  "cells": [
    {
      "cell_type": "markdown",
      "metadata": {
        "id": "view-in-github",
        "colab_type": "text"
      },
      "source": [
        "<a href=\"https://colab.research.google.com/github/vcastellar/aprendizajeXrefuerzo/blob/main/fundamentosrl.ipynb\" target=\"_parent\"><img src=\"https://colab.research.google.com/assets/colab-badge.svg\" alt=\"Open In Colab\"/></a>"
      ]
    },
    {
      "cell_type": "markdown",
      "source": [
        "# Fundamentos aprendizaje por refuerzo"
      ],
      "metadata": {
        "id": "BHJ2-nTVMz1C"
      }
    },
    {
      "cell_type": "code",
      "source": [],
      "metadata": {
        "id": "E258o1SZM8Di"
      },
      "execution_count": null,
      "outputs": []
    }
  ]
}